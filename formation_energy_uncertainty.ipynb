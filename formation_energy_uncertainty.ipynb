{
 "cells": [
  {
   "cell_type": "markdown",
   "id": "eda49ee8",
   "metadata": {},
   "source": [
    "## Formation energy uncertainty\n",
    "\n",
    "This notebook will calculate the difference in formation energy between your calculation and the converged calculation."
   ]
  },
  {
   "cell_type": "code",
   "execution_count": null,
   "id": "1722f1ac",
   "metadata": {},
   "outputs": [],
   "source": [
    "import numpy as np \n",
    "import pandas as pd\n",
    "from matplotlib import pyplot as plt"
   ]
  },
  {
   "cell_type": "markdown",
   "id": "0fd840d8",
   "metadata": {},
   "source": [
    "All cp2k single energies are outputted in hartrees. To convert to milli electronvolts use the constant below."
   ]
  },
  {
   "cell_type": "code",
   "execution_count": null,
   "id": "173a34ad",
   "metadata": {},
   "outputs": [],
   "source": [
    "eV = 27.211382543519"
   ]
  },
  {
   "cell_type": "markdown",
   "id": "df7b1f10",
   "metadata": {},
   "source": [
    "## CONVERGED VALUES\n",
    "\n",
    "Formation energy for PFOMA and Ag and 2.3 Angstroms using converged DFT data"
   ]
  },
  {
   "cell_type": "code",
   "execution_count": null,
   "id": "c91bf36d",
   "metadata": {},
   "outputs": [],
   "source": [
    "PFOMA_c = -36.938529147693629 #meV\n",
    "Ag_c = -420.867108327723486 #meV\n",
    "PFOMA_Ag_23_c = -457.698758251654169 \n",
    "formation_energy_converged = (PFOMA_Ag_23_c - (PFOMA_c + Ag_c)) * eV\n",
    "formation_energy_converged"
   ]
  },
  {
   "cell_type": "markdown",
   "id": "99c18bc3",
   "metadata": {},
   "source": [
    "## UNCONVERGED VALUES\n",
    "\n",
    "Input your values here to calculate the formation energy for the not converged DFT calculation. These can found in the output.out file: scroll down until you find the 'SCF run converged in     x steps' message, and look for the line:\n",
    "ENERGY| Total FORCE_EVAL ( QS ) energy (a.u.):"
   ]
  },
  {
   "cell_type": "code",
   "execution_count": null,
   "id": "f158efe6",
   "metadata": {},
   "outputs": [],
   "source": [
    "PFOMA =  \n",
    "Ag =  \n",
    "PFOMA_Ag_23 =  \n",
    "formation_energy_unconverged = (PFOMA_Ag_23 - (PFOMA + Ag)) * eV\n",
    "formation_energy_unconverged"
   ]
  },
  {
   "cell_type": "markdown",
   "id": "a8cd17bd",
   "metadata": {},
   "source": [
    "## Difference in formation energy "
   ]
  },
  {
   "cell_type": "code",
   "execution_count": null,
   "id": "a524b80c",
   "metadata": {},
   "outputs": [],
   "source": [
    "difference = np.abs(formation_energy_converged - formation_energy_unconverged)"
   ]
  },
  {
   "cell_type": "code",
   "execution_count": null,
   "id": "c03f9a35",
   "metadata": {},
   "outputs": [],
   "source": [
    "difference"
   ]
  },
  {
   "cell_type": "code",
   "execution_count": null,
   "id": "05355c54",
   "metadata": {},
   "outputs": [],
   "source": []
  }
 ],
 "metadata": {
  "hide_input": false,
  "kernelspec": {
   "display_name": "Python 3.10.0 ('mchem': conda)",
   "language": "python",
   "name": "python3"
  },
  "language_info": {
   "codemirror_mode": {
    "name": "ipython",
    "version": 3
   },
   "file_extension": ".py",
   "mimetype": "text/x-python",
   "name": "python",
   "nbconvert_exporter": "python",
   "pygments_lexer": "ipython3",
   "version": "3.10.0"
  },
  "vscode": {
   "interpreter": {
    "hash": "201efe5a027b469ad40cce87d85128dfd768bec52fe71534c11a26030cbb4dad"
   }
  }
 },
 "nbformat": 4,
 "nbformat_minor": 5
}
