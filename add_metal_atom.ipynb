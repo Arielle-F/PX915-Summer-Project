{
 "cells": [
  {
   "cell_type": "code",
   "execution_count": 1,
   "id": "2df355eb",
   "metadata": {},
   "outputs": [],
   "source": [
    "from ase import io\n",
    "from ase.visualize import view\n",
    "from ipywidgets import HBox\n",
    "from ase import Atoms\n",
    "from ase.build import separate"
   ]
  },
  {
   "cell_type": "code",
   "execution_count": 2,
   "id": "1e1c6d5b",
   "metadata": {},
   "outputs": [],
   "source": [
    "#Insert molecule file to use here\n",
    "molecule = io.read('Organofluorine_files/PFDMA_straight.xyz')\n",
    "\n",
    "#Which metal is being added\n",
    "metal = 'Ag'\n",
    "\n",
    "#Distance from end carbon for first metal atom  (silver has an atomic radius of ~1.75 Å)\n",
    "min_dist = 1.30\n",
    "\n",
    "#Spacings for silver atoms (Angstroms)\n",
    "spacing = 0.2\n",
    "\n",
    "#Number of distances\n",
    "no_dists = 20\n",
    "\n",
    "#Core name for files\n",
    "fname = 'PFOMA_Ag_2deg'\n",
    "\n",
    "#Trajectory of approach (number of degrees rotated from central bond axis)\n",
    "rot = 2"
   ]
  },
  {
   "cell_type": "code",
   "execution_count": 3,
   "id": "18126f6e",
   "metadata": {},
   "outputs": [
    {
     "name": "stdout",
     "output_type": "stream",
     "text": [
      "36\n"
     ]
    }
   ],
   "source": [
    "# @hidden_cell\n",
    "\n",
    "# Find the carbon with 3 fluorines attached\n",
    "\n",
    "#Set max C-F bond length\n",
    "CF_max=1.4\n",
    "\n",
    "#Set max C-C bond length\n",
    "CC_max=1.6\n",
    "\n",
    "#Give end_carbon a value not in atom list to confirm when atom is found\n",
    "end_carbon = -1\n",
    "\n",
    "#Obtain chemical symbols for atom list\n",
    "sym = molecule.get_chemical_symbols()\n",
    "\n",
    "#Check neighbours for each atom to find CF3\n",
    "for i in range(len(molecule)):\n",
    "    \n",
    "    #Number of fluorines\n",
    "    nF = 0\n",
    "    \n",
    "    if sym[i]=='C':\n",
    "        for j in range(len(molecule)):\n",
    "            if sym[j]=='F' and molecule.get_distance(i,j) < CF_max:\n",
    "                nF = nF + 1\n",
    "    if nF==3:\n",
    "        assert(end_carbon==-1) # Fail if CF3 has already been found\n",
    "        end_carbon = i\n",
    "        \n",
    "# check if a CF3 carbon has been found\n",
    "assert(end_carbon>=0) \n",
    "print(end_carbon)"
   ]
  },
  {
   "cell_type": "code",
   "execution_count": 4,
   "id": "43a31c67",
   "metadata": {},
   "outputs": [
    {
     "name": "stdout",
     "output_type": "stream",
     "text": [
      "33\n"
     ]
    }
   ],
   "source": [
    "# Find atom to create vector with the end carbon\n",
    "\n",
    "vector_atom = -1\n",
    "CC_min = 1.0 # avoid locating same atom twice\n",
    "\n",
    "for i in range(len(molecule)):\n",
    "    \n",
    "    if sym[i]=='C' and molecule.get_distance(i,end_carbon) < CC_max and molecule.get_distance(i,end_carbon) > CC_min:\n",
    "       # assert(vector_atom==-1) #Fail if atom has already been found\n",
    "        vector_atom = i\n",
    "        \n",
    "assert(vector_atom>=0)\n",
    "    \n",
    "print(vector_atom)"
   ]
  },
  {
   "cell_type": "code",
   "execution_count": 5,
   "id": "97c54a29",
   "metadata": {},
   "outputs": [
    {
     "data": {
      "application/vnd.jupyter.widget-view+json": {
       "model_id": "bf80376642de425db14d672176f8ada1",
       "version_major": 2,
       "version_minor": 0
      },
      "text/plain": []
     },
     "metadata": {},
     "output_type": "display_data"
    },
    {
     "data": {
      "application/vnd.jupyter.widget-view+json": {
       "model_id": "61574dbf87c1429e930303a3957350b3",
       "version_major": 2,
       "version_minor": 0
      },
      "text/plain": [
       "HBox(children=(NGLWidget(), VBox(children=(Dropdown(description='Show', options=('All', 'H', 'F', 'C', 'O'), v…"
      ]
     },
     "metadata": {},
     "output_type": "display_data"
    }
   ],
   "source": [
    "#Calculate vector between end carbon and vector atom\n",
    "vector = molecule.get_positions()[end_carbon] - molecule.get_positions()[vector_atom]\n",
    "\n",
    "#Rotate the vector to be along the x-axis\n",
    "molecule.rotate(vector,(1,0,0))\n",
    "\n",
    "end_carbon_pos = molecule.get_positions()[end_carbon]\n",
    "\n",
    "view(molecule, viewer = 'ngl' )"
   ]
  },
  {
   "cell_type": "code",
   "execution_count": 6,
   "id": "2235fee0",
   "metadata": {},
   "outputs": [],
   "source": [
    "#change approach trajectory\n",
    "molecule.rotate(rot,'z')\n",
    "\n",
    "end_carbon_pos = molecule.get_positions()[end_carbon]\n",
    "\n",
    "view(molecule, viewer = 'ngl' )\n",
    "\n",
    "'''\n",
    "filename = fname + '.xyz'\n",
    " \n",
    "#save xyz file \n",
    "io.write(filename, molecule, format = 'xyz')\n",
    "'''"
   ]
  },
  {
   "cell_type": "code",
   "execution_count": null,
   "id": "e6d3f33c",
   "metadata": {},
   "outputs": [],
   "source": [
    "# Add silver atom and save xyz file for each distance\n",
    "\n",
    "for i in range(no_dists):\n",
    "    \n",
    "    #set distance between end carbon and silver atom\n",
    "    dist = min_dist + (0.2 * i)\n",
    "    #print (dist)\n",
    "    #Append a silver atom to the atoms list\n",
    "    molecule.append(metal)\n",
    "\n",
    "    #Place the silver atom at the minimum distance from the end carbon\n",
    "    molecule.positions[-1] = end_carbon_pos + (dist,0,0)\n",
    "    \n",
    "    filename = fname + '_' + str(round((min_dist + i * 0.20), 2)) + '.xyz'\n",
    " \n",
    "    #save xyz file \n",
    "    io.write(filename, molecule, format = 'xyz')\n",
    "    \n",
    "    #Remove silver atom for next iteration\n",
    "    del molecule[-1]\n"
   ]
  },
  {
   "cell_type": "code",
   "execution_count": null,
   "id": "81271084",
   "metadata": {},
   "outputs": [],
   "source": []
  },
  {
   "cell_type": "code",
   "execution_count": null,
   "id": "a008585e",
   "metadata": {},
   "outputs": [],
   "source": [
    "for i in range(no_dists):\n",
    "    \n",
    "    #set distance between end carbon and silver atom\n",
    "    dist = min_dist + (0.2 * i)\n",
    "    #print (dist)\n",
    "    #Append a silver atom to the atoms list\n",
    "    molecule.append(metal)\n",
    "\n",
    "    #Place the silver atom at the minimum distance from the end carbon\n",
    "    molecule.positions[-1] = end_carbon_pos + (dist,0,0)\n",
    "    \n",
    "view(molecule, viewer = 'ngl' )"
   ]
  },
  {
   "cell_type": "code",
   "execution_count": null,
   "id": "d0c9b90e",
   "metadata": {},
   "outputs": [],
   "source": []
  }
 ],
 "metadata": {
  "hide_input": false,
  "kernelspec": {
   "display_name": "Python 3 (ipykernel)",
   "language": "python",
   "name": "python3"
  },
  "language_info": {
   "codemirror_mode": {
    "name": "ipython",
    "version": 3
   },
   "file_extension": ".py",
   "mimetype": "text/x-python",
   "name": "python",
   "nbconvert_exporter": "python",
   "pygments_lexer": "ipython3",
   "version": "3.8.6"
  }
 },
 "nbformat": 4,
 "nbformat_minor": 5
}
